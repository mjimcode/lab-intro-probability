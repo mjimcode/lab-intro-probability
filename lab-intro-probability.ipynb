{
 "cells": [
  {
   "cell_type": "markdown",
   "metadata": {},
   "source": [
    "# Lab | Intro to Probability"
   ]
  },
  {
   "cell_type": "markdown",
   "metadata": {},
   "source": [
    "**Objective**\n",
    "\n",
    "Welcome to this Intro to Probability lab, where we explore decision-making scenarios through the lens of probability and strategic analysis. In the business world, making informed decisions is crucial, especially when faced with uncertainties. This lab focuses on scenarios where probabilistic outcomes play a significant role in shaping strategies and outcomes. Students will engage in exercises that require assessing and choosing optimal paths based on data-driven insights. The goal is to enhance your skills by applying probability concepts to solve real-world problems."
   ]
  },
  {
   "cell_type": "markdown",
   "metadata": {},
   "source": [
    "**Challenge 1**"
   ]
  },
  {
   "cell_type": "markdown",
   "metadata": {},
   "source": [
    "#### Ironhack Airlines \n",
    "\n",
    "Often Airlines sell more tickets than they have seats available, this is called overbooking. Consider the following:\n",
    "- A plane has 450 seats. \n",
    "- Based on historical data we conclude that each individual passenger has a 3% chance of missing it's flight. \n",
    "\n",
    "If the Ironhack Airlines routinely sells 460 tickets, what is the chance that they have a seats for all passenger?"
   ]
  },
  {
   "cell_type": "code",
   "execution_count": 32,
   "metadata": {},
   "outputs": [
    {
     "data": {
      "text/plain": [
       "0.8844772466215431"
      ]
     },
     "execution_count": 32,
     "metadata": {},
     "output_type": "execute_result"
    }
   ],
   "source": [
    "#code here\n",
    "from scipy.stats import binom\n",
    "\n",
    "n = 460\n",
    "p = 1- 0.03\n",
    "\n",
    "binom_dist = binom(n,p)\n",
    "\n",
    "binom_dist.cdf(450)\n",
    "\n",
    "\n",
    "# ALT: prob = binom.cdf(450, 460, 0.97)"
   ]
  },
  {
   "cell_type": "code",
   "execution_count": 33,
   "metadata": {},
   "outputs": [
    {
     "data": {
      "text/plain": [
       "0.9845380332964995"
      ]
     },
     "execution_count": 33,
     "metadata": {},
     "output_type": "execute_result"
    }
   ],
   "source": [
    "# Ej propio: calcula probabilidad de obtener un 3 al lanzar 10 dados, 4 o menos veces\n",
    "\n",
    "n = 10\n",
    "p = 1/6          \n",
    "\n",
    "binom_dist = binom(n,p)\n",
    "\n",
    "binom_dist.cdf(4)           # Prob de obtener 0, 1, 2, 3 o 4 veces un resultado de 4"
   ]
  },
  {
   "cell_type": "markdown",
   "metadata": {},
   "source": [
    "**Challenge 2**"
   ]
  },
  {
   "cell_type": "markdown",
   "metadata": {},
   "source": [
    "#### Ironhack Call Center "
   ]
  },
  {
   "cell_type": "markdown",
   "metadata": {},
   "source": [
    "Suppose a customer service representative at a call center is handling customer complaints. Consider the following:\n",
    "- The probability of successfully resolving a customer complaint on the first attempt is 0.3. \n",
    "\n",
    "\n",
    "What is the probability that the representative needs to make at least three attempts before successfully resolving a customer complaint?"
   ]
  },
  {
   "cell_type": "code",
   "execution_count": 34,
   "metadata": {},
   "outputs": [
    {
     "data": {
      "text/plain": [
       "0.49"
      ]
     },
     "execution_count": 34,
     "metadata": {},
     "output_type": "execute_result"
    }
   ],
   "source": [
    "#code here\n",
    "from scipy.stats import geom\n",
    "\n",
    "p = 0.3\n",
    "geom_dist = geom(p)\n",
    "\n",
    "# MAL -> geom_dist.pmf(3) esto implica que el primer éxito ocurre en el tercer intento\n",
    "\n",
    "prob_exito_primer_o_segundo_intento = geom_dist.cdf(2)\n",
    "\n",
    "1 - prob_exito_primer_o_segundo_intento\n"
   ]
  },
  {
   "cell_type": "markdown",
   "metadata": {},
   "source": [
    "**Challenge 3**"
   ]
  },
  {
   "cell_type": "markdown",
   "metadata": {},
   "source": [
    "#### Ironhack Website"
   ]
  },
  {
   "cell_type": "markdown",
   "metadata": {},
   "source": [
    "Consider a scenario related to Ironhack website traffic. Where:\n",
    "- our website takes on average 500 visits per hour.\n",
    "- the website's server is designed to handle up to 550 vists per hour.\n",
    "\n",
    "\n",
    "What is the probability of the website server being overwhelmed?"
   ]
  },
  {
   "cell_type": "code",
   "execution_count": 35,
   "metadata": {},
   "outputs": [
    {
     "name": "stdout",
     "output_type": "stream",
     "text": [
      "Probability that the server will be overwhelmed: 0.01289822084039205\n"
     ]
    }
   ],
   "source": [
    "from scipy.stats import poisson\n",
    "\n",
    "# Parameters\n",
    "lambda_ = 500\n",
    "\n",
    "# Create Poisson distribution object\n",
    "poisson_dist = poisson(mu=lambda_)\n",
    "\n",
    "# Calculate the probability that the server will be overwhelmed (more than 550 visits)\n",
    "prob_overwhelmed = 1 - poisson_dist.cdf(550)\n",
    "\n",
    "# Print the result\n",
    "print(f\"Probability that the server will be overwhelmed: {prob_overwhelmed}\")\n",
    "\n",
    "# SON DATOS DISCRETOS, NO PUEDO UTILIZAR LA DISTRIBUCIÓN EXPONENCIAL PORQUE ES PARA DATOS CONTINUOS, ES POR ESO QUE HE USADO POISSON\n"
   ]
  },
  {
   "cell_type": "code",
   "execution_count": 36,
   "metadata": {},
   "outputs": [
    {
     "name": "stdout",
     "output_type": "stream",
     "text": [
      "Probability that the server will be overwhelmed in one hour: 0.01289822084039205\n",
      "Probability that the server will be overwhelmed at least once in 24 hours: 0.2677043869515715\n",
      "Probability that the server will be overwhelmed in hour 24 without being overwhelmed before: 0.00956873013195303\n"
     ]
    }
   ],
   "source": [
    "from scipy.stats import poisson\n",
    "\n",
    "# Parámetro\n",
    "lambda_ = 500\n",
    "\n",
    "# Crear el objeto de distribución de Poisson\n",
    "poisson_dist = poisson(mu=lambda_)\n",
    "\n",
    "# Calcular la probabilidad de que el servidor se sature en una hora (más de 550 visitas)\n",
    "prob_overwhelmed = 1 - poisson_dist.cdf(550)\n",
    "\n",
    "# Calcular la probabilidad de que el servidor no se sature en una hora\n",
    "prob_not_overwhelmed = 1 - prob_overwhelmed\n",
    "\n",
    "# Calcular la probabilidad de que el servidor no se sature en 24 horas\n",
    "prob_not_overwhelmed_24h = prob_not_overwhelmed ** 24\n",
    "\n",
    "# Calcular la probabilidad de que el servidor se sature al menos una vez en 24 horas\n",
    "prob_overwhelmed_24h = 1 - prob_not_overwhelmed_24h\n",
    "\n",
    "# Imprimir el resultado\n",
    "print(f\"Probability that the server will be overwhelmed in one hour: {prob_overwhelmed}\")\n",
    "print(f\"Probability that the server will be overwhelmed at least once in 24 hours: {prob_overwhelmed_24h}\")\n",
    "\n",
    "# Calcular la probabilidad de que se sature en la hora n sin haberse saturado antes\n",
    "# Para cada hora individualmente (ejemplo de la hora 24)\n",
    "hour_n = 24\n",
    "prob_overwhelmed_hour_n = (1 - prob_not_overwhelmed ** hour_n) - (1 - prob_not_overwhelmed ** (hour_n - 1))\n",
    "\n",
    "print(f\"Probability that the server will be overwhelmed in hour {hour_n} without being overwhelmed before: {prob_overwhelmed_hour_n}\")\n"
   ]
  },
  {
   "cell_type": "markdown",
   "metadata": {},
   "source": [
    "What is the probability of being overwhelmed at some point during a day? (consider 24hours)"
   ]
  },
  {
   "cell_type": "code",
   "execution_count": 37,
   "metadata": {},
   "outputs": [
    {
     "name": "stdout",
     "output_type": "stream",
     "text": [
      "Probability that the server will be overwhelmed over a day is: 0.2677043869515715\n"
     ]
    }
   ],
   "source": [
    "#code here\n",
    "\n",
    "prob_overwhelmed_daily = 1 - poisson_dist.cdf(550)**24\n",
    "\n",
    "\n",
    "print(f\"Probability that the server will be overwhelmed over a day is: {prob_overwhelmed_daily}\")"
   ]
  },
  {
   "cell_type": "markdown",
   "metadata": {},
   "source": [
    "**Challenge 4**"
   ]
  },
  {
   "cell_type": "markdown",
   "metadata": {},
   "source": [
    "#### Ironhack Helpdesk"
   ]
  },
  {
   "cell_type": "markdown",
   "metadata": {},
   "source": [
    "Consider a scenario related to the time between arrivals of customers at a service desk.\n",
    "\n",
    "On average, a customers arrives every 10minutes.\n",
    "\n",
    "What is the probability that the next customer will arrive within the next 5 minutes?"
   ]
  },
  {
   "cell_type": "code",
   "execution_count": 38,
   "metadata": {},
   "outputs": [
    {
     "data": {
      "text/plain": [
       "0.3934693402873666"
      ]
     },
     "execution_count": 38,
     "metadata": {},
     "output_type": "execute_result"
    }
   ],
   "source": [
    "from scipy.stats import expon\n",
    "\n",
    "lamda_cust = 1/10\n",
    "\n",
    "lamba_cust_inv = expon(scale= 1/lamda_cust)\n",
    "\n",
    "lamba_cust_inv.cdf(5)"
   ]
  },
  {
   "cell_type": "markdown",
   "metadata": {},
   "source": [
    "If there is no customer for 15minutes, employees can that a 5minutes break.\n",
    "\n",
    "What is the probability an employee taking a break?"
   ]
  },
  {
   "cell_type": "code",
   "execution_count": 39,
   "metadata": {},
   "outputs": [
    {
     "data": {
      "text/plain": [
       "0.2231301601484298"
      ]
     },
     "execution_count": 39,
     "metadata": {},
     "output_type": "execute_result"
    }
   ],
   "source": [
    "1 - lamba_cust_inv.cdf(15)"
   ]
  },
  {
   "cell_type": "markdown",
   "metadata": {},
   "source": [
    "**Challenge 5**"
   ]
  },
  {
   "cell_type": "markdown",
   "metadata": {},
   "source": [
    "The weights of a certain species of birds follow a normal distribution with a mean weight of 150 grams and a standard deviation of 10 grams. \n",
    "\n",
    "- If we randomly select a bird, what is the probability that its weight is between 140 and 160 grams?"
   ]
  },
  {
   "cell_type": "code",
   "execution_count": 40,
   "metadata": {},
   "outputs": [
    {
     "data": {
      "text/plain": [
       "0.6826894921370859"
      ]
     },
     "execution_count": 40,
     "metadata": {},
     "output_type": "execute_result"
    }
   ],
   "source": [
    "#code here\n",
    "from scipy.stats import norm\n",
    "\n",
    "mean = 150\n",
    "std = 10\n",
    "\n",
    "norm_dist = norm(mean,std)\n",
    "\n",
    "norm_dist.cdf(160) - norm_dist.cdf(140)"
   ]
  },
  {
   "cell_type": "markdown",
   "metadata": {},
   "source": [
    "**Challenge 6**"
   ]
  },
  {
   "cell_type": "markdown",
   "metadata": {},
   "source": [
    "If the lifetime (in hours) of a certain electronic component follows an exponential distribution with a mean lifetime of 50 hours, what is the probability that the component fails within the first 30 hours?"
   ]
  },
  {
   "cell_type": "code",
   "execution_count": 41,
   "metadata": {},
   "outputs": [
    {
     "data": {
      "text/plain": [
       "0.4511883639059735"
      ]
     },
     "execution_count": 41,
     "metadata": {},
     "output_type": "execute_result"
    }
   ],
   "source": [
    "#code here\n",
    "from scipy.stats import expon\n",
    "\n",
    "lamba_val_elect = 1/50\n",
    "\n",
    "lambda_inv_elect = expon(scale= 1/lamba_val_elect)\n",
    "\n",
    "lambda_inv_elect.cdf(30) \n"
   ]
  }
 ],
 "metadata": {
  "kernelspec": {
   "display_name": "Python 3",
   "language": "python",
   "name": "python3"
  },
  "language_info": {
   "codemirror_mode": {
    "name": "ipython",
    "version": 3
   },
   "file_extension": ".py",
   "mimetype": "text/x-python",
   "name": "python",
   "nbconvert_exporter": "python",
   "pygments_lexer": "ipython3",
   "version": "3.12.4"
  }
 },
 "nbformat": 4,
 "nbformat_minor": 2
}
